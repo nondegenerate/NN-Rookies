{
 "cells": [
  {
   "cell_type": "markdown",
   "id": "a872ed06",
   "metadata": {},
   "source": [
    "请先运行第一块代码以加载求解函数"
   ]
  },
  {
   "cell_type": "code",
   "execution_count": 28,
   "id": "60a12356",
   "metadata": {},
   "outputs": [],
   "source": [
    "import numpy as np\n",
    "from numba import jit\n",
    "\n",
    "\n",
    "# 求解函数\n",
    "@jit(nopython=True)\n",
    "def solver(u, g, n, dx, y, v0):\n",
    "    v = v0\n",
    "    t = 0\n",
    "    dx2 = dx ** 2\n",
    "    for i in range(n):\n",
    "        dy = y[i] - y[i + 1]\n",
    "        ds = (dx ** 2 + dy ** 2) ** 0.5\n",
    "        sin = dy / ds\n",
    "        cos = (1 - sin ** 2) ** 0.5\n",
    "        # 求二阶差商\n",
    "        if i == 0:\n",
    "            y2 = (y[i] - 2 * y[i + 1] + y[i + 2]) / dx2\n",
    "        elif i == n - 1:\n",
    "            y2 = (y[i - 1] - 2 * y[i] + y[i + 1]) / dx2\n",
    "        else:\n",
    "            y2 = 0.5 * (y[i + 2] - y[i + 1] - y[i] + y[i - 1]) / dx2\n",
    "        # 求曲率k用于计算惯性离心力\n",
    "        k = y2 / (1 + (dy / dx) ** 2) ** 1.5\n",
    "        a = g * sin - u * (g * cos + k * v ** 2)\n",
    "        # 改进欧拉法\n",
    "        # 第一次迭代期望末速率\n",
    "        temp = v ** 2 + 2 * a * ds\n",
    "        if temp <= 0:  # 出不去\n",
    "            return -1\n",
    "        v_exp = temp ** 0.5\n",
    "        # 修正加速度\n",
    "        a = g * sin - u * (g * cos + k * ((v + v_exp) / 2) ** 2)\n",
    "        # 第二次迭代期望末速度\n",
    "        v_exp = (v ** 2 + 2 * a * ds) ** 0.5\n",
    "        # 微元平均速度\n",
    "        v_av = (v + v_exp) / 2\n",
    "        t = t + ds / v_av\n",
    "        v = v_exp\n",
    "    return t\n",
    "\n",
    "\n",
    "# 解说函数\n",
    "def interpreter(result):\n",
    "    if result == -1:\n",
    "        print(\"不能到达终点\")\n",
    "    else:\n",
    "        print(\"用时:\", end=' ')\n",
    "        print(result, end='s')\n"
   ]
  },
  {
   "cell_type": "code",
   "execution_count": 29,
   "id": "03619e53",
   "metadata": {},
   "outputs": [
    {
     "name": "stdout",
     "output_type": "stream",
     "text": [
      "用时: 18.991090173598298s"
     ]
    }
   ],
   "source": [
    "# 直线情况\n",
    "\n",
    "# 参数设定\n",
    "# 摩擦系数\n",
    "u = 0.09\n",
    "g = 9.8\n",
    "# 微元数\n",
    "n = int(1e5)\n",
    "# x轴范围\n",
    "x0 = 800\n",
    "dx = x0 / n\n",
    "x = np.linspace(0, x0, num=int(n + 1))\n",
    "# 轨道方程\n",
    "y = 1000 - 1.25 * x\n",
    "# 初速度\n",
    "v0 = 0\n",
    "interpreter(solver(u, g, n, dx, y, v0))\n"
   ]
  },
  {
   "cell_type": "code",
   "execution_count": 30,
   "id": "fb911c84",
   "metadata": {},
   "outputs": [
    {
     "name": "stdout",
     "output_type": "stream",
     "text": [
      "用时: 18.057548214249323s"
     ]
    }
   ],
   "source": [
    "#抛物线情况\n",
    "\n",
    "# 参数设定\n",
    "# 摩擦系数\n",
    "u = 0.09\n",
    "g = 9.8\n",
    "# 微元数\n",
    "n = int(1e5)\n",
    "# x轴范围\n",
    "x0 = 800\n",
    "dx = x0 / n\n",
    "x = np.linspace(0, x0, num=int(n + 1))\n",
    "# 轨道方程\n",
    "y = 1000 * (x - 800) ** 2 / 800 ** 2\n",
    "# 初速度\n",
    "v0 = 0\n",
    "interpreter(solver(u, g, n, dx, y, v0))\n"
   ]
  },
  {
   "cell_type": "code",
   "execution_count": 32,
   "id": "ac524cd1",
   "metadata": {},
   "outputs": [
    {
     "data": {
      "text/plain": [
       "Text(0, 0.5, '1/(T/s)')"
      ]
     },
     "execution_count": 32,
     "metadata": {},
     "output_type": "execute_result"
    },
    {
     "data": {
      "image/png": "[encoded data removed]",
      "text/plain": [
       "<Figure size 432x288 with 1 Axes>"
      ]
     },
     "metadata": {
      "needs_background": "light"
     },
     "output_type": "display_data"
    }
   ],
   "source": [
    "# 研究滑行时间随摩擦系数的变化，请先运行2号或3号代码块\n",
    "import matplotlib.pyplot as plt\n",
    "\n",
    "u = np.linspace(0, 1.4, 1000)\n",
    "t_inv = []\n",
    "for ui in u:\n",
    "    t = solver(ui, g, n, dx, y, 0)\n",
    "    if t == -1:\n",
    "        t = 0\n",
    "    else:\n",
    "        t = 1 / t\n",
    "    t_inv.append(t)\n",
    "t_inv = np.array(t_inv)\n",
    "plt.plot(u, t_inv)\n",
    "plt.xlabel('μ')\n",
    "plt.ylabel('1/(T/s)')\n"
   ]
  },
  {
   "cell_type": "code",
   "execution_count": null,
   "id": "3876e15f",
   "metadata": {},
   "outputs": [],
   "source": []
  }
 ],
 "metadata": {
  "kernelspec": {
   "display_name": "Python 3",
   "language": "python",
   "name": "python3"
  },
  "language_info": {
   "codemirror_mode": {
    "name": "ipython",
    "version": 3
   },
   "file_extension": ".py",
   "mimetype": "text/x-python",
   "name": "python",
   "nbconvert_exporter": "python",
   "pygments_lexer": "ipython3",
   "version": "3.8.8"
  }
 },
 "nbformat": 4,
 "nbformat_minor": 5
}
